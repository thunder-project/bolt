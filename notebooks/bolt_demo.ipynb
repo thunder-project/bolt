{
 "cells": [
  {
   "cell_type": "code",
   "execution_count": null,
   "metadata": {
    "collapsed": true
   },
   "outputs": [],
   "source": [
    "import sys\n",
    "sys.path.append('..')"
   ]
  },
  {
   "cell_type": "code",
   "execution_count": 35,
   "metadata": {
    "collapsed": true
   },
   "outputs": [],
   "source": [
    "from bolt import barray\n",
    "from bolt.spark import BoltArraySpark\n",
    "from bolt.local import BoltArrayLocal\n",
    "import numpy as np"
   ]
  },
  {
   "cell_type": "code",
   "execution_count": 61,
   "metadata": {
    "collapsed": false
   },
   "outputs": [
    {
     "name": "stdout",
     "output_type": "stream",
     "text": [
      "[[[ 0  1  2]\n",
      "  [ 3  4  5]\n",
      "  [ 6  7  8]]\n",
      "\n",
      " [[ 9 10 11]\n",
      "  [12 13 14]\n",
      "  [15 16 17]]]\n",
      "[[[ 0  1  2]\n",
      "  [ 3  4  5]\n",
      "  [ 6  7  8]]\n",
      "\n",
      " [[ 9 10 11]\n",
      "  [12 13 14]\n",
      "  [15 16 17]]]\n"
     ]
    }
   ],
   "source": [
    "a = np.arange(18).reshape(2,3,3)\n",
    "print(a)\n",
    "x = barray(a)\n",
    "print(x)"
   ]
  },
  {
   "cell_type": "code",
   "execution_count": 77,
   "metadata": {
    "collapsed": false
   },
   "outputs": [
    {
     "name": "stdout",
     "output_type": "stream",
     "text": [
      "-------\n",
      "split = 1, \n",
      "keys:\n",
      "[(0,), (1,)]\n",
      "values:\n",
      "[array([[0, 1, 2],\n",
      "       [3, 4, 5],\n",
      "       [6, 7, 8]]), array([[ 9, 10, 11],\n",
      "       [12, 13, 14],\n",
      "       [15, 16, 17]])]\n",
      "(1, 0, 0)\n",
      "-------\n",
      "split = 2, \n",
      "keys:\n",
      "[(0, 0), (0, 1), (0, 2), (1, 0), (1, 1), (1, 2)]\n",
      "values:\n",
      "[array([0, 1, 2]), array([3, 4, 5]), array([6, 7, 8]), array([ 9, 10, 11]), array([12, 13, 14]), array([15, 16, 17])]\n",
      "(1, 1, 0)\n",
      "-------\n",
      "split = 3, \n",
      "keys:\n",
      "[(0, 0, 0), (0, 0, 1), (0, 0, 2), (0, 1, 0), (0, 1, 1), (0, 1, 2), (0, 2, 0), (0, 2, 1), (0, 2, 2), (1, 0, 0), (1, 0, 1), (1, 0, 2), (1, 1, 0), (1, 1, 1), (1, 1, 2), (1, 2, 0), (1, 2, 1), (1, 2, 2)]\n",
      "values:\n",
      "[0, 1, 2, 3, 4, 5, 6, 7, 8, 9, 10, 11, 12, 13, 14, 15, 16, 17]\n",
      "(1, 1, 1)\n"
     ]
    }
   ],
   "source": [
    "# the default split is 1, meaning, over the first axis similar to treating the array like a iterator\n",
    "# keys are always some combination of axes\n",
    "# values are nd arrays\n",
    "\n",
    "for split in range(1,len(a.shape)+1):\n",
    "    print('-------')\n",
    "    xs = x.tospark(sc, split)\n",
    "    print('split = {}, \\nkeys:'.format(split))\n",
    "    print(xs._rdd.keys().collect())\n",
    "    print('values:')\n",
    "    print(xs._rdd.values().collect())\n",
    "    print xs.mask\n"
   ]
  }
 ],
 "metadata": {
  "kernelspec": {
   "display_name": "Python 2",
   "language": "python",
   "name": "python2"
  },
  "language_info": {
   "codemirror_mode": {
    "name": "ipython",
    "version": 2
   },
   "file_extension": ".py",
   "mimetype": "text/x-python",
   "name": "python",
   "nbconvert_exporter": "python",
   "pygments_lexer": "ipython2",
   "version": "2.7.10"
  }
 },
 "nbformat": 4,
 "nbformat_minor": 0
}
